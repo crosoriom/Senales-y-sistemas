{
  "nbformat": 4,
  "nbformat_minor": 0,
  "metadata": {
    "colab": {
      "provenance": [],
      "authorship_tag": "ABX9TyOWUT4TFb9DQZ6CesbHLXi9",
      "include_colab_link": true
    },
    "kernelspec": {
      "name": "python3",
      "display_name": "Python 3"
    },
    "language_info": {
      "name": "python"
    }
  },
  "cells": [
    {
      "cell_type": "markdown",
      "metadata": {
        "id": "view-in-github",
        "colab_type": "text"
      },
      "source": [
        "<a href=\"https://colab.research.google.com/github/crosoriom/Senales-y-sistemas/blob/main/TallerTransformadaDeFourier.ipynb\" target=\"_parent\"><img src=\"https://colab.research.google.com/assets/colab-badge.svg\" alt=\"Open In Colab\"/></a>"
      ]
    },
    {
      "cell_type": "markdown",
      "source": [
        "# Taller transformada de Fourier\n",
        "\n",
        "## Ejercicio 2.1\n",
        "\n",
        "El concepto de la serie de Fourier parte del hecho de que una función puede representarse como una suma de diferentes bases ortogonales entre si.\n",
        "En la serie y transformada de Fourier se asume que las bases son exponenciales complejas (estas exponenciales se pueden transformar en funciones senoidales y cosenoidales segun sea conveniente).\n",
        "\n",
        "La serie de Fourier se aplica para señales en tiempo continuo, y se obtienen frecuencias discretas. Al calcular la serie de Fourier en un intervalo I, se obtiene una función periódica cuyo periodo es I.\n",
        "\n",
        "La trasformada de Fourier se aplica a una función en tiempo continuo y se obtiene una frecuencia continua. Es como aplicar la serie de Fourier a un intervalo $ (-\\infty , +\\infty) $. Da como resultado la misma función pero representada en funciones exponenciales.\n",
        "\n",
        "La transformada de Fourier en tiempo discreto (DTFT) se aplica a una función en tiempo discreto y se obtiene una frecuencia continua. Y por último la trasformada discreta de Fourier (DFT) se aplica a una señal en tiempo discreto y se obtiene un espectro discreto de frecuencias, se usa para hacer un cálculo aproximado de la DTFT. Esta última es la que más aplicaciones tiene en la actualidad puesto que en los sistemas digitales solamente se trabaja con datos discretos.\n",
        "\n",
        "#### Transformada rapida de Fourier (FFT)\n",
        "\n",
        "La FFT es un logaritmo que permite calcular una DFT de una manerá rapida. Para calcular una transformada discreta directamente desde su definición se requieren $O(N^{2})$ operaciones, pero al aplicar la tranformada rápida se requieren como máximo $O(NlogN)$ operaciones.\n",
        "\n",
        "La DFT se define como:\n",
        "\\begin{equation}\n",
        "\\widetilde{x}[k] \\triangleq \\sum_{n=0}^{N-1} x_{n} e^{-\\frac{2\\pi j}{N}kn}\n",
        "\\end{equation}\n",
        "\n",
        "El algoritmo más usado para aplicar la FFT es el algoritmo de Cooley-Tukey, que consiste en ir dividiendo en dos partes el tamaño de la muestra sobre la que se va a realizar la transformada hasta obtener un tamaño de uno, luego a ese unico número se le hace la transformada y se van combinando las transformadas para formar la transformaada original, así reduciendo el número total de operaciones."
      ],
      "metadata": {
        "id": "0UzrxKxnA8DL"
      }
    },
    {
      "cell_type": "code",
      "execution_count": null,
      "metadata": {
        "id": "9ZGQv6-mA024"
      },
      "outputs": [],
      "source": []
    }
  ]
}